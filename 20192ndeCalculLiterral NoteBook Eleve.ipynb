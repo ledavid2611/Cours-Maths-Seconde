{
 "cells": [
  {
   "cell_type": "markdown",
   "metadata": {},
   "source": [
    "# Calcul littéral"
   ]
  },
  {
   "cell_type": "markdown",
   "metadata": {},
   "source": [
    "## Règles de calcul sur les puissance entières relatives, sur les racines carrées. Relation $\\sqrt{a^2}=a$ pour $a>0$"
   ]
  },
  {
   "cell_type": "markdown",
   "metadata": {},
   "source": [
    "Pour calculer $2^3$ en langage Python, on utilise la commande $\\text{2**3}$. Tester cette commande ci-dessous :"
   ]
  },
  {
   "cell_type": "code",
   "execution_count": null,
   "metadata": {},
   "outputs": [],
   "source": [
    "# Taper votre code ci-dessous puis taper Shift + Entrée"
   ]
  },
  {
   "cell_type": "markdown",
   "metadata": {},
   "source": [
    "Utiliser cette commande pour calculer $9^{3}$ puis $2^{-1}$ :"
   ]
  },
  {
   "cell_type": "code",
   "execution_count": null,
   "metadata": {},
   "outputs": [],
   "source": [
    "# Taper votre code ci-dessous puis taper Shift + Entrée"
   ]
  },
  {
   "cell_type": "markdown",
   "metadata": {},
   "source": [
    "Double-cliquez __ici__ pour voir la solution.\n",
    "\n",
    "<!-- Voici la réponse :\n",
    "\n",
    "9**3\n",
    "2**(-1) # il faut penser aux parenthèses\n",
    "\n",
    "-->"
   ]
  },
  {
   "cell_type": "markdown",
   "metadata": {},
   "source": [
    "Pour créer une fonction permettant de calculer une puissance d'un réel $a$, on peut utiliser la fonction ci-dessous :"
   ]
  },
  {
   "cell_type": "code",
   "execution_count": null,
   "metadata": {},
   "outputs": [],
   "source": [
    "def puissance(a,n):\n",
    "    return a**n"
   ]
  },
  {
   "cell_type": "markdown",
   "metadata": {},
   "source": [
    "Par exemple $\\text{puissance(3,2)}$ renvoie $9$. Utiliser cette fonction pour calculer $9^{3}$ puis $2^{-1}$."
   ]
  },
  {
   "cell_type": "code",
   "execution_count": null,
   "metadata": {},
   "outputs": [],
   "source": [
    "# Taper votre code ci-dessous puis taper Shift + Entrée"
   ]
  },
  {
   "cell_type": "markdown",
   "metadata": {},
   "source": [
    "Double-cliquez __ici__ pour voir la solution.\n",
    "\n",
    "<!-- Voici la réponse :\n",
    "\n",
    "puissance(9,3)\n",
    "\n",
    "puissance(2,-1)\n",
    "\n",
    "-->"
   ]
  },
  {
   "cell_type": "markdown",
   "metadata": {},
   "source": [
    "_Exercice :_ Utiliser la fonction $\\text{puissance}$ pour calculer $4^2\\times 3^3$ et $(41\\times 23)^2$ :"
   ]
  },
  {
   "cell_type": "code",
   "execution_count": null,
   "metadata": {},
   "outputs": [],
   "source": [
    "# Taper votre code ci-dessous puis taper Shift + Entrée"
   ]
  },
  {
   "cell_type": "markdown",
   "metadata": {},
   "source": [
    "Double-cliquez __ici__ pour voir la solution.\n",
    "\n",
    "<!-- Voici la réponse :\n",
    "\n",
    "puissance(4,2)*puissance(3,3)\n",
    "\n",
    "puissance(41*23,2)\n",
    "\n",
    "-->"
   ]
  },
  {
   "cell_type": "markdown",
   "metadata": {},
   "source": [
    "La fonction racine carrée est déjà définie dans une bibliothèque Python par la commande **sqrt**.  \n",
    "La commande ci-dessous renvoie cependant un message d'erreur :"
   ]
  },
  {
   "cell_type": "code",
   "execution_count": null,
   "metadata": {},
   "outputs": [],
   "source": [
    "sqrt(4)"
   ]
  },
  {
   "cell_type": "markdown",
   "metadata": {},
   "source": [
    "Pour que le logiciel reconnaisse la fonction **sqrt** il faut charger la bibliothèque qui la contient appelée **math**.  \n",
    "Recopier et exécuter le programme ci-dessous :\n",
    "\n",
    "    from math import *  \n",
    "    sqrt(4)"
   ]
  },
  {
   "cell_type": "code",
   "execution_count": null,
   "metadata": {},
   "outputs": [],
   "source": [
    "# Taper votre code ci-dessous puis taper Shift + Entrée"
   ]
  },
  {
   "cell_type": "markdown",
   "metadata": {},
   "source": [
    "_Exercice_ : Taper un code permettant de calculer $\\sqrt{4}\\times \\sqrt{81}$"
   ]
  },
  {
   "cell_type": "code",
   "execution_count": null,
   "metadata": {},
   "outputs": [],
   "source": [
    "# Taper votre code ci-dessous puis taper Shift + Entrée"
   ]
  },
  {
   "cell_type": "markdown",
   "metadata": {},
   "source": [
    "Double-cliquez __ici__ pour voir la solution.\n",
    "\n",
    "<!-- Voici la réponse :\n",
    "\n",
    "from math import *\n",
    "sqrt(4)*sqrt(81)\n",
    "\n",
    "-->"
   ]
  },
  {
   "cell_type": "markdown",
   "metadata": {},
   "source": [
    "Un booléen (codé par **bool**) est une variable qui ne prend que deux valeurs notées **True** et **False** .\n",
    "\n",
    "C'est un type de variables différentes des entiers par exemple. Exéctuez la commande ci-dessous :"
   ]
  },
  {
   "cell_type": "code",
   "execution_count": null,
   "metadata": {},
   "outputs": [],
   "source": [
    "type(True) #la commande type() permet de donner le type d'un objet"
   ]
  },
  {
   "cell_type": "markdown",
   "metadata": {},
   "source": [
    "La commande de test \"$\\mathbf{<}$\" permet de tester si un objet est strictement inférieur à un autre.  (bien entendu on a test analogue avec \"$\\mathbf{>}$\")   \n",
    "Par exemple **1<2** renvoie **True** et **2<1** renvoie **False**. Exécutez les commandes ci-dessous : "
   ]
  },
  {
   "cell_type": "code",
   "execution_count": null,
   "metadata": {},
   "outputs": [],
   "source": []
  },
  {
   "cell_type": "code",
   "execution_count": null,
   "metadata": {},
   "outputs": [],
   "source": [
    "sqrt(7) < sqrt(2)+sqrt(5) #Vérification del'inégalité triangulaire"
   ]
  },
  {
   "cell_type": "code",
   "execution_count": null,
   "metadata": {},
   "outputs": [],
   "source": [
    "sqrt(7) > sqrt(2)+sqrt(5) #Vérification del'inégalité triangulaire"
   ]
  },
  {
   "cell_type": "markdown",
   "metadata": {},
   "source": [
    "Ecrire une commande permettant de comparer $\\sqrt{37}$ et $\\sqrt{30}+\\sqrt{7}$"
   ]
  },
  {
   "cell_type": "code",
   "execution_count": null,
   "metadata": {},
   "outputs": [],
   "source": [
    "# Taper votre code ci-dessous puis taper Shift + Entrée"
   ]
  },
  {
   "cell_type": "markdown",
   "metadata": {},
   "source": [
    "Double-cliquez __ici__ pour voir la solution.\n",
    "\n",
    "<!-- Voici la réponse :\n",
    "\n",
    "sqrt(30)+sqrt(7)< sqrt(37)  \n",
    "ou  \n",
    "sqrt(37)<sqrt(30)+sqrt(7)  \n",
    "etc\n",
    "\n",
    "-->"
   ]
  },
  {
   "cell_type": "markdown",
   "metadata": {},
   "source": [
    "Ecrire une commande permettant de comparer $\\sqrt{3}$ et $2$"
   ]
  },
  {
   "cell_type": "code",
   "execution_count": null,
   "metadata": {},
   "outputs": [],
   "source": [
    "# Taper votre code ci-dessous puis taper Shift + Entrée"
   ]
  },
  {
   "cell_type": "markdown",
   "metadata": {},
   "source": [
    "Double-cliquez __ici__ pour voir la solution.\n",
    "\n",
    "<!-- Voici la réponse :\n",
    "\n",
    "sqrt(3)<2\n",
    "\n",
    "-->"
   ]
  },
  {
   "cell_type": "markdown",
   "metadata": {},
   "source": [
    "Ecrire une commande permettant de comparer $0,35^4$ et $0,35^{10}$"
   ]
  },
  {
   "cell_type": "code",
   "execution_count": null,
   "metadata": {},
   "outputs": [],
   "source": [
    "# Taper votre code ci-dessous puis taper Shift + Entrée"
   ]
  },
  {
   "cell_type": "markdown",
   "metadata": {},
   "source": [
    "Double-cliquez __ici__ pour voir la solution.\n",
    "\n",
    "<!-- Voici la réponse :\n",
    "\n",
    "0.35**4<0.35**10\n",
    "\n",
    "-->"
   ]
  },
  {
   "cell_type": "markdown",
   "metadata": {},
   "source": [
    "## Identités remarquables"
   ]
  },
  {
   "cell_type": "markdown",
   "metadata": {},
   "source": [
    "La commande de test **==** permet de tester l'égalité de deux objets et la commande **!=** permet de tester si deux objet sont différents.  \n",
    "Par exemple **1==2** renvoie **False** et **1!=2** renvoie **True**. Exécutez les commandes ci-dessous : "
   ]
  },
  {
   "cell_type": "code",
   "execution_count": null,
   "metadata": {},
   "outputs": [],
   "source": [
    "3==3"
   ]
  },
  {
   "cell_type": "code",
   "execution_count": null,
   "metadata": {},
   "outputs": [],
   "source": [
    "3!=3"
   ]
  },
  {
   "cell_type": "markdown",
   "metadata": {},
   "source": [
    "On considère le programme suivant. Qu'affichera-t-il?\n",
    "```\n",
    "a=1  \n",
    "b=3  \n",
    "(a+b)**2==a**2+2*a*b+b**2```"
   ]
  },
  {
   "cell_type": "code",
   "execution_count": null,
   "metadata": {},
   "outputs": [],
   "source": [
    "# Taper votre code ci-dessous puis taper Shift + Entrée"
   ]
  },
  {
   "cell_type": "markdown",
   "metadata": {},
   "source": [
    "Double-cliquez  **ici** pour voir la réponse\n",
    "\n",
    "<!-- Voici la réponse :\n",
    "\n",
    "True\n",
    "\n",
    "-->"
   ]
  },
  {
   "cell_type": "markdown",
   "metadata": {},
   "source": [
    "On considère le programme suivant. Qu'affichera-t-il?\n",
    "\n",
    "```\n",
    "a=1  \n",
    "b=3  \n",
    "(a+b)**2 == a**2 + b**2```"
   ]
  },
  {
   "cell_type": "code",
   "execution_count": null,
   "metadata": {},
   "outputs": [],
   "source": [
    "# Taper votre code ci-dessous puis taper Shift + Entrée"
   ]
  },
  {
   "cell_type": "markdown",
   "metadata": {},
   "source": [
    "Double-cliquez  **ici** pour voir la réponse\n",
    "\n",
    "<!-- Voici la réponse :\n",
    "\n",
    "False\n",
    "\n",
    "-->"
   ]
  },
  {
   "cell_type": "markdown",
   "metadata": {},
   "source": [
    "## Exemples simples de calculs sur des expressions algébriques"
   ]
  },
  {
   "cell_type": "markdown",
   "metadata": {},
   "source": [
    "On considère l'expression définie sur $\\mathbb{N}$ par $u(n)=\\dfrac{(n+1)^2-(n-1)^2}{4}$.  \n",
    "On utilise la fonction Python définie par :  \n",
    "    \n",
    "    def u(n): \n",
    "        return ((n+1)**2-(n-1)**2)/4"
   ]
  },
  {
   "cell_type": "code",
   "execution_count": null,
   "metadata": {},
   "outputs": [],
   "source": [
    "#charger cette fonction en tapant Shit + entrée\n",
    "def u(n): \n",
    "    return ((n+1)**2-(n-1)**2)/4"
   ]
  },
  {
   "cell_type": "markdown",
   "metadata": {},
   "source": [
    "Calculer ci-dessous u(1), u(2), u(37) :"
   ]
  },
  {
   "cell_type": "code",
   "execution_count": null,
   "metadata": {},
   "outputs": [],
   "source": [
    "# Taper votre code ci-dessous puis taper Shift + Entrée"
   ]
  },
  {
   "cell_type": "markdown",
   "metadata": {},
   "source": [
    " <span style=\"color:blue\"> Quelle Conjecture peut-on faire sur la valeur de $u(n)$ lorsque $n$ est un entier quelconque ? </span>"
   ]
  },
  {
   "cell_type": "markdown",
   "metadata": {},
   "source": [
    "Double-cliquez __ici__ pour écrire votre réponse : \n",
    "    \n",
    "Puis taper Shift + entrée."
   ]
  },
  {
   "cell_type": "markdown",
   "metadata": {},
   "source": [
    "<span style=\"color:blue\"> Prenez votre **cahier d'exercice** et écrivez la **preuve** de votre conjecture. "
   ]
  },
  {
   "cell_type": "markdown",
   "metadata": {},
   "source": [
    "<span style=\"color:red\">  Double-cliquez **ici** pour voir une indication \n",
    "\n",
    "<!-- \n",
    "   \n",
    "Développer ou factoriser.\n",
    "\n",
    "-->"
   ]
  },
  {
   "cell_type": "markdown",
   "metadata": {},
   "source": [
    "Double-cliquez  **ici** pour voir la réponse\n",
    "\n",
    "<!-- Voici la réponse : \n",
    "\n",
    "$u(n)=\\dfrac{(n+1)^2-(n-1)^2}{4}=\\dfrac{n^2+2n+1-(n^2-2n+1)}{4}=\\dfrac{4n}{4}=n$\n",
    "\n",
    "Autre méthode, en factorisant :  \n",
    "\n",
    "$u(n)=\\dfrac{((n+1)+(n-1))((n+1)-(n-1))}{4}=\\dfrac{2n\\times 2}{4}=n$\n",
    "\n",
    "-->"
   ]
  },
  {
   "cell_type": "markdown",
   "metadata": {},
   "source": [
    "## Ensemble des solutions d'une équation"
   ]
  },
  {
   "cell_type": "markdown",
   "metadata": {},
   "source": [
    "Tester à l'aide de la commande **==** si $3.7$ est bien solution de l'équation $37=10d$  \n",
    "On remarquera que le nombre $3,7$ se note $3.7$ en Python. Il s'agit d'un objet nommé **flottant** et qui est une façon de représenter les nombres réels dans un ordinateur."
   ]
  },
  {
   "cell_type": "code",
   "execution_count": null,
   "metadata": {},
   "outputs": [],
   "source": [
    "# Taper votre code ci-dessous puis taper Shift + Entrée"
   ]
  },
  {
   "cell_type": "markdown",
   "metadata": {},
   "source": [
    "Double-cliquez  **ici** pour voir la réponse\n",
    "\n",
    "<!-- Voici la réponse :\n",
    "\n",
    "37==10*3.7\n",
    "\n",
    "-->"
   ]
  },
  {
   "cell_type": "markdown",
   "metadata": {},
   "source": [
    "On considère l'algorithme suivant :\n",
    "```\n",
    "a=2\n",
    "b=5\n",
    "c=7\n",
    "u=c+b\n",
    "v=u/a\n",
    "v\n",
    "```\n",
    "Recopier et exécuter cet algorithme ci-dessous. Que permet de calculer cet algorithme?"
   ]
  },
  {
   "cell_type": "code",
   "execution_count": null,
   "metadata": {},
   "outputs": [],
   "source": [
    "# Taper votre code ci-dessous puis taper Shift + Entrée"
   ]
  },
  {
   "cell_type": "markdown",
   "metadata": {},
   "source": [
    "Double-cliquez  **ici** pour voir la réponse\n",
    "\n",
    "<!-- Voici la réponse :\n",
    "\n",
    "Cet algorithme affiche 6 et il permet de résoudre l'équation 2x-5=7\n",
    "\n",
    "-->"
   ]
  }
 ],
 "metadata": {
  "kernelspec": {
   "display_name": "Python 3",
   "language": "python",
   "name": "python3"
  },
  "language_info": {
   "codemirror_mode": {
    "name": "ipython",
    "version": 3
   },
   "file_extension": ".py",
   "mimetype": "text/x-python",
   "name": "python",
   "nbconvert_exporter": "python",
   "pygments_lexer": "ipython3",
   "version": "3.7.3"
  }
 },
 "nbformat": 4,
 "nbformat_minor": 2
}
