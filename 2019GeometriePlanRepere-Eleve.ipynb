{
 "cells": [
  {
   "cell_type": "markdown",
   "metadata": {},
   "source": [
    "# Coordonnées d'un vecteur"
   ]
  },
  {
   "cell_type": "markdown",
   "metadata": {},
   "source": [
    "## Egalité de vecteurs"
   ]
  },
  {
   "cell_type": "markdown",
   "metadata": {},
   "source": [
    "L'instruction **if** est utilisée pour une exécution conditonnelle. Par exemple:"
   ]
  },
  {
   "cell_type": "code",
   "execution_count": null,
   "metadata": {},
   "outputs": [],
   "source": [
    "#éxécuter cet algorithme en tapant Shift + Entrée\n",
    "a=1\n",
    "b=2\n",
    "if a==b:\n",
    "    print(\"a et b sont égaux\")"
   ]
  },
  {
   "cell_type": "markdown",
   "metadata": {},
   "source": [
    "Puisque ici $a$ et $b$ ne sont pas égaux, l'algorithme n'affiche rien. Il faut le compléter en donnant un affichage dans le cas où $a$ et $b$ ne sont pas égaux."
   ]
  },
  {
   "cell_type": "code",
   "execution_count": null,
   "metadata": {},
   "outputs": [],
   "source": [
    "#éxécuter cet algorithme en tapant Shift + Entrée\n",
    "a=1\n",
    "b=2\n",
    "if a==b:\n",
    "    print(\"a et b sont égaux\")\n",
    "else:\n",
    "    print(\"a et b ne sont pas égaux\")"
   ]
  },
  {
   "cell_type": "markdown",
   "metadata": {},
   "source": [
    "Si l'on dispose de plusieurs couples à comparer, on peut ajouter des conditions dans l'instruction **if**. Tester l'algorithme suivant avec $a=1$, $b=1$, $c=7$, puis $a=1$, $b=1$ et $c=1$ et enfin $a=1$, $b=2$ et $c=7$."
   ]
  },
  {
   "cell_type": "code",
   "execution_count": null,
   "metadata": {},
   "outputs": [],
   "source": [
    "#éxécuter cet algorithme en tapant Shift + Entrée\n",
    "a=1\n",
    "b=1\n",
    "c=7\n",
    "if a==b & b==c:\n",
    "    print(\"a, b et c sont tous trois égaux\")\n",
    "else:\n",
    "    print(\"au moins deux de ces nombres ne sont pas égaux\")"
   ]
  },
  {
   "cell_type": "markdown",
   "metadata": {},
   "source": [
    "En vous aidant de l'algorithme ci-dessus, proposer un algorithme qui permet de tester l'égalité des vecteurs $\\overrightarrow{u}(1;2)$ et $\\overrightarrow{v}(4;7)$."
   ]
  },
  {
   "cell_type": "code",
   "execution_count": null,
   "metadata": {},
   "outputs": [],
   "source": [
    "# Compléter l'algorithme ci-dessous pour tester l'égalité de deux vecteurs.\n",
    "xu=1 # abscisse de u\n",
    "yu=2 # ordonnée de u\n",
    "xv=1 # abscisse de v\n",
    "yv=7 # ordonnée de v"
   ]
  },
  {
   "cell_type": "markdown",
   "metadata": {},
   "source": [
    "Double-cliquez **ici** pour voir la réponse\n",
    "\n",
    "<!-- \n",
    "xu=1 # abscisse de u\n",
    "yu=2 # ordonnée de u\n",
    "xv=1 # abscisse de v\n",
    "yv=7 # ordonnée de v\n",
    "if xu==xv & yu=yv:\n",
    "    print(\" u et v sont égaux\")\n",
    "else:\n",
    "    print(\"u et v ne sont pas égaux\")\n",
    "-->"
   ]
  },
  {
   "cell_type": "markdown",
   "metadata": {},
   "source": [
    "On peut créer une **fonction** permettant de tester l'égalité de deux vecteurs en entrant les coordonnées comme **arguments**."
   ]
  },
  {
   "cell_type": "code",
   "execution_count": null,
   "metadata": {},
   "outputs": [],
   "source": [
    "# Exécuter la fonction ci-dessous en tapant Shift + Entrée\n",
    "def EgaliteVecteurs(xu,yu,xv,yv): #abscisses et ordonnées des vecteurs u et v\n",
    "    if xu==xv & yu==yv: #Test de l'égalité des abscisses et des ordonnées\n",
    "        print(\"u et v sont égaux\")\n",
    "    else:\n",
    "        print(\"u et v ne son pas égaux\")"
   ]
  },
  {
   "cell_type": "markdown",
   "metadata": {},
   "source": [
    "Tester, en utilisant la fonction ci-dessus l'égalité des vecteurs $\\overrightarrow{u}(1;2)$ et $\\overrightarrow{v}(4;7)$. Puis des vecteurs $\\overrightarrow{u}(3;2)$ et $\\overrightarrow{v}(3;2)$. (utiliser la commande EgaliteVecteurs(1,2,4,7))"
   ]
  },
  {
   "cell_type": "code",
   "execution_count": null,
   "metadata": {},
   "outputs": [],
   "source": [
    "# écrire votre code puis taper Shift + Entrée"
   ]
  },
  {
   "cell_type": "markdown",
   "metadata": {},
   "source": [
    "## Coordonnées du vecteur $\\overrightarrow{AB}$"
   ]
  },
  {
   "cell_type": "markdown",
   "metadata": {},
   "source": [
    "L'algorithme ci-dessous calcule la différence $x_B-x_A$. Modifiez-le pour qu'il affiche les coordonnées du vecteur $\\overrightarrow{AB}$ où $A(1;2)$ et $B(7;3)$."
   ]
  },
  {
   "cell_type": "code",
   "execution_count": null,
   "metadata": {},
   "outputs": [],
   "source": [
    "# modifiez le programme ci-dessous pouis tapez Shift + Entrée pour l'exécuter\n",
    "xA=1\n",
    "xB=7\n",
    "print(\"xB-xA= \",xB-xA)"
   ]
  },
  {
   "cell_type": "markdown",
   "metadata": {},
   "source": [
    "Double-cliquez **ici** pour voir la réponse\n",
    "\n",
    "<!--\n",
    "xA=1\n",
    "xB=7\n",
    "yA=2\n",
    "yB=3\n",
    "print(\"le vecteur AB a pour coordonnées\",(xB-xA,yB-yA))\n",
    "-->"
   ]
  },
  {
   "cell_type": "markdown",
   "metadata": {},
   "source": [
    "Que permet d'afficher la fonction ci-dessous. Testez-la pour $A(1;2)$ et $B(7;3)$."
   ]
  },
  {
   "cell_type": "code",
   "execution_count": null,
   "metadata": {},
   "outputs": [],
   "source": [
    "def CoordonneesAB(xA,yA,xB,yB): \n",
    "    return (xB-xA,yB-yA)\n",
    "\n",
    "#Tapez votre réponse ici :"
   ]
  },
  {
   "cell_type": "markdown",
   "metadata": {},
   "source": [
    "Double-cliquez **ici** pour voir la réponse\n",
    "\n",
    "<!--\n",
    "def CoordonneesAB(xA,yA,xB,yB): #fonction créant les coordonnée du vecteur AB\n",
    "    return (xB-xA,yB-yA)\n",
    "CoordonneesAB(1,2,7,3)  #test pour A(1;2) et B(7;3)\n",
    "-->"
   ]
  },
  {
   "cell_type": "markdown",
   "metadata": {},
   "source": [
    "## Milieu d'un segment"
   ]
  },
  {
   "cell_type": "markdown",
   "metadata": {},
   "source": [
    "Complétez l'algorithme ci-dessous pour qu'il calcule les coordonnées du segment $[AB]$ où $A(1;2)$ et $B(7,3)$."
   ]
  },
  {
   "cell_type": "code",
   "execution_count": null,
   "metadata": {},
   "outputs": [],
   "source": [
    "# Modifiez l'algorithme puis tapez Shift + Entrée pour l'exécuter\n",
    "xA=1\n",
    "yA=2\n",
    "xB=7\n",
    "yB=3\n",
    "print(\"Le milieu de [AB] a pour abscisse \", (xA+xB)/2)"
   ]
  },
  {
   "cell_type": "markdown",
   "metadata": {},
   "source": [
    "Double-cliquez **ici** pour voir une réponse\n",
    "\n",
    "<!--\n",
    "```\n",
    "xA=1\n",
    "yA=2\n",
    "xB=7\n",
    "yB=3\n",
    "print(\"Le milieu de [AB] a pour coordonnées \", ((xA+xB)/2,(yA+yB)/2))\n",
    "```\n",
    "-->"
   ]
  },
  {
   "cell_type": "markdown",
   "metadata": {},
   "source": [
    "Créez une fonction notée **Milieu** d'argument **(xA,yA,xB,yB)** permettant d'afficher les coordonnées du milieu de $[AB]$ pour deux points $A$ et $B$ quelconques donnés. Puis testez-le avec divers points. (on pourra s'inspirer des exemples précédents)"
   ]
  },
  {
   "cell_type": "code",
   "execution_count": null,
   "metadata": {},
   "outputs": [],
   "source": [
    "# Tapez votre programme ici puis exécutez avec Shift + Entrée"
   ]
  },
  {
   "cell_type": "markdown",
   "metadata": {},
   "source": [
    "Double-cliquez **ici** pour voir la réponse\n",
    "\n",
    "<!--\n",
    "```\n",
    "def Milieu(xA,yA,xB,yB):\n",
    "    print(\"Le milieu de [AB] a pour coordonnées \", ((xA+xB)/2,(yA+yB)/2))\n",
    "```\n",
    "-->"
   ]
  },
  {
   "cell_type": "markdown",
   "metadata": {},
   "source": [
    "## Norme d'un vecteur et longueur $AB$"
   ]
  },
  {
   "cell_type": "markdown",
   "metadata": {},
   "source": [
    "Que permet d'afficher la fonction ci-dessous? Testez-la pour différentes valeurs."
   ]
  },
  {
   "cell_type": "code",
   "execution_count": null,
   "metadata": {},
   "outputs": [],
   "source": [
    "from math import *\n",
    "def N(x,y):\n",
    "    return sqrt(x**2+y**2)\n",
    "\n",
    "#Tapez votre réponse ici : "
   ]
  },
  {
   "cell_type": "markdown",
   "metadata": {},
   "source": [
    "Double-cliquez **ici** pour voir la réponse\n",
    "<!--\n",
    "Cette fonction calcule la norme du vecteur u de coordonnées (x,y)\n",
    "-->"
   ]
  },
  {
   "cell_type": "markdown",
   "metadata": {},
   "source": [
    "En vous inspirant de tout ce qui a été fait précédemment, créez une fonction, nommée **distance** qui calcule la distance $AB$"
   ]
  },
  {
   "cell_type": "code",
   "execution_count": null,
   "metadata": {},
   "outputs": [],
   "source": [
    "#Tapez votre programme ci-dessous puis testez-le sur diverses valeurs pour vérifier"
   ]
  },
  {
   "cell_type": "markdown",
   "metadata": {},
   "source": [
    "Double-cliquez **ici** pour voir la réponse\n",
    "<!--\n",
    "def longueur(xA,yA,xB,yB):\n",
    "    return sqrt((xB-xA)**2+(yB-yA)**2)\n",
    "-->"
   ]
  }
 ],
 "metadata": {
  "kernelspec": {
   "display_name": "Python 3",
   "language": "python",
   "name": "python3"
  },
  "language_info": {
   "codemirror_mode": {
    "name": "ipython",
    "version": 3
   },
   "file_extension": ".py",
   "mimetype": "text/x-python",
   "name": "python",
   "nbconvert_exporter": "python",
   "pygments_lexer": "ipython3",
   "version": "3.7.3"
  }
 },
 "nbformat": 4,
 "nbformat_minor": 2
}
