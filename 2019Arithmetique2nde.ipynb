{
 "cells": [
  {
   "cell_type": "markdown",
   "metadata": {},
   "source": [
    "# Arithmétique "
   ]
  },
  {
   "cell_type": "markdown",
   "metadata": {},
   "source": [
    "## Les ensembles $\\mathbb{N}$ et $\\mathbb{Z}$"
   ]
  },
  {
   "cell_type": "markdown",
   "metadata": {},
   "source": [
    "### Multiples et diviseurs d'un entier"
   ]
  },
  {
   "cell_type": "markdown",
   "metadata": {},
   "source": [
    "La commande $18\\%5$ permet de calculer le reste de la division euclidienne de $18$ par  $5$. Tester cette commande avec $18\\%5$, $18\\%3$, $18\\%2$ et $18\\%7$."
   ]
  },
  {
   "cell_type": "code",
   "execution_count": null,
   "metadata": {},
   "outputs": [],
   "source": [
    "# Tapez votre commande ci-dessous puis exécutez avec Shift + Entrée"
   ]
  },
  {
   "cell_type": "markdown",
   "metadata": {},
   "source": [
    "Double cliquez **ici** pour voir la réponse\n",
    "<!-- \n",
    "```\n",
    "18//5\n",
    "3\n",
    "18//3\n",
    "0\n",
    "18//2\n",
    "0\n",
    "18// 7\n",
    "```\n",
    "-->"
   ]
  },
  {
   "cell_type": "markdown",
   "metadata": {},
   "source": [
    "La commande **range(n)** permet de créer un objet (de type spécial appelé **range**) avec les entiers allant de $0$ à $n-1$. Par exemple **range(10)** créer un objet avec les entiers de $0,1,2,\\ldots,9$. Pour faire en sorte que cet objet soit une liste, on utilise la commande **list(range(10))**.\n",
    "\n",
    "Qu'affiche **range(7)**? Qu'affiche **list(range(7))**?  Qu'affiche **list(range(1,7))**"
   ]
  },
  {
   "cell_type": "code",
   "execution_count": null,
   "metadata": {},
   "outputs": [],
   "source": [
    "# Tapez votre commande ci-dessous puis exécutez avec Shift + Entrée"
   ]
  },
  {
   "cell_type": "markdown",
   "metadata": {},
   "source": [
    "Double cliquez **ici** pour voir la réponse\n",
    "<!-- \n",
    "```\n",
    "* range(7) n'affiche que range(0,7).\n",
    "* list(range(7)) affiche [0, 1, 2, 3, 4, 5, 6], c'est pratique pour visualiser mais on n'avons pas besoin de la fonction list en seconde\n",
    "* list(range(1,7)) affiche [1, 2, 3, 4, 5, 6]\n",
    "On a cette fois les entiers de 1 à 6\n",
    "```\n",
    "-->"
   ]
  },
  {
   "cell_type": "markdown",
   "metadata": {},
   "source": [
    "On cherche à déterminer tous les diviseurs d'un entier $n$ quelconque donné.\n",
    "\n",
    "Commençons par étudier un nouveau type de commande, la boucle **for**. Exécutez l'algorithme ci-dessous:"
   ]
  },
  {
   "cell_type": "code",
   "execution_count": null,
   "metadata": {},
   "outputs": [],
   "source": [
    "# Exécutez l'algorithme avec Shift + Entrée\n",
    "for i in range(10):\n",
    "    print(i)"
   ]
  },
  {
   "cell_type": "markdown",
   "metadata": {},
   "source": [
    "Qu'affiche le programme ci-dessous? Tesez-le pour $i=1$, $i=2$, $i=6$, $i=18$."
   ]
  },
  {
   "cell_type": "code",
   "execution_count": null,
   "metadata": {},
   "outputs": [],
   "source": [
    "# Shift + Entrée pour exécuter le programme\n",
    "i=3\n",
    "if 18%i==0:\n",
    "    print(i,\" est un diviseur de 18\")\n",
    "else:\n",
    "    print(i,\" n est pas un diviseur de 18\")"
   ]
  },
  {
   "cell_type": "markdown",
   "metadata": {},
   "source": [
    "À l'aide d'une boucle dite **for** pour peut répéter le test ci-dessus pour tous les entiers naturels inférieurs ou égaux à $18$."
   ]
  },
  {
   "cell_type": "code",
   "execution_count": null,
   "metadata": {},
   "outputs": [],
   "source": [
    "# Shift + Entrée pour exécuter l'algorithme\n",
    "for i in range(1,19):\n",
    "    if 18%i==0:\n",
    "        print(i,\" est un diviseur de 18\")\n",
    "    else:\n",
    "        print(i,\" n est pas un diviseur de 18\")"
   ]
  },
  {
   "cell_type": "markdown",
   "metadata": {},
   "source": [
    "Déterminer tous les diviseurs de 25 à l'aide d'un algorithme :"
   ]
  },
  {
   "cell_type": "code",
   "execution_count": null,
   "metadata": {},
   "outputs": [],
   "source": [
    "#  Tapez votre algorithme puis Shift + Entrée pour exécuter l'algorithme"
   ]
  },
  {
   "cell_type": "markdown",
   "metadata": {},
   "source": [
    "Double-cliquez **ici** pour voir la réponse\n",
    "<!--\n",
    "```\n",
    "for i in range(1,25):\n",
    "    if 25%i==0:\n",
    "        print(i,\" est un diviseur de 25\")\n",
    "    else:\n",
    "        print(i,\" n est pas un diviseur de 25\")\n",
    "```\n",
    "-->"
   ]
  },
  {
   "cell_type": "markdown",
   "metadata": {},
   "source": [
    "On peut créer une fonction permettant de donner la liste des diviseurs d'un naturel $n$ donné :"
   ]
  },
  {
   "cell_type": "code",
   "execution_count": null,
   "metadata": {},
   "outputs": [],
   "source": [
    "# Shift + Entrée pour charger la fonction\n",
    "def diviseurs(n): # n est un entier\n",
    "    for i in range(1,n+1):\n",
    "        if n%i==0:\n",
    "            print(i,\" est un diviseur de \", n)"
   ]
  },
  {
   "cell_type": "markdown",
   "metadata": {},
   "source": [
    "Testez la fonction pour $n=2$, $n=3$, $n=4$ et $n=18$. (utiliser la commande **diviseurs(2)** etc.)"
   ]
  },
  {
   "cell_type": "code",
   "execution_count": null,
   "metadata": {},
   "outputs": [],
   "source": [
    "# Tapez votre commande ci-dessous puis Shift + Entrée pour exécuter"
   ]
  },
  {
   "cell_type": "markdown",
   "metadata": {},
   "source": [
    "### Nombres pairs, nombres impairs"
   ]
  },
  {
   "cell_type": "markdown",
   "metadata": {},
   "source": [
    "Voici un algorithme permettant de tester si un nombre est pair. Bien sûr on peut déjà le savoir en regardant le chiffre des unités de ce nombre.\n",
    "Mais il s'agit d'un simple exercice d'entraînement.\n",
    "\n",
    "Exécutez l'algorithme pour diverses valeurs de $n$."
   ]
  },
  {
   "cell_type": "code",
   "execution_count": null,
   "metadata": {},
   "outputs": [],
   "source": [
    "n=245\n",
    "if n%2==0:\n",
    "    print(n,\" est pair\")\n",
    "else:\n",
    "    print(n, \" est impair\")"
   ]
  },
  {
   "cell_type": "markdown",
   "metadata": {},
   "source": [
    "### Critères de divisibilité"
   ]
  },
  {
   "cell_type": "markdown",
   "metadata": {},
   "source": [
    "En informatique, **une chaîne de caractères** est à la fois conceptuellement une suite ordonnée de caractères et physiquement une suite ordonnée d' unités de code (code unit). La chaîne de caractères est un type de donnée dans de nombreux langages informatiques. La traduction en anglais est *string*. \n",
    "\n",
    "En langage Python, une chaîne de caractère se note entre guillemets doubles ou simples (pas de mélange des deux). Par exemple, \"AbTef\", \"135\" et \"25aT4g$\" sont des chaînes de caractères. Tester ces commandes ci-dessous :"
   ]
  },
  {
   "cell_type": "code",
   "execution_count": null,
   "metadata": {},
   "outputs": [],
   "source": [
    "# Tapez votre commande puis Shift+entrée pour exécuter"
   ]
  },
  {
   "cell_type": "markdown",
   "metadata": {},
   "source": [
    "Double-cliquez **ici** pour voir la réponse\n",
    "\n",
    "<!--\n",
    "```\n",
    "\"AbTef\"\n",
    "\"135\"\n",
    "\"25aT4g$\"\n",
    "```\n",
    "-->"
   ]
  },
  {
   "cell_type": "markdown",
   "metadata": {},
   "source": [
    "On considère l'algorithme ci-dessous, exécutez-le puis modifiez-le pour qu'il affiche les chaînes de caractères \"1\", \"2\" et \"3\"."
   ]
  },
  {
   "cell_type": "code",
   "execution_count": null,
   "metadata": {},
   "outputs": [],
   "source": [
    "u=\"AbTef\"\n",
    "for i in u:\n",
    "    print(i)"
   ]
  },
  {
   "cell_type": "markdown",
   "metadata": {},
   "source": [
    "Double-cliquez **ici** pour voir la réponse:\n",
    "\n",
    "<!--\n",
    "u=\"123\"\n",
    "for i in u:\n",
    "    print(i)\n",
    "-->"
   ]
  },
  {
   "cell_type": "markdown",
   "metadata": {},
   "source": [
    "Il faut être prudent, même si dans la chaîne de caractères figure des nombres, leur addition de fournit pas la somme comme avec des nombres. Testez par exemple les commmandes **\"1\"+\"2\"** , **1+2** et **\"1+2\"**"
   ]
  },
  {
   "cell_type": "code",
   "execution_count": null,
   "metadata": {},
   "outputs": [],
   "source": [
    "# Tapez vos commandes ici puis Shift + Entrée pour exécuter"
   ]
  },
  {
   "cell_type": "markdown",
   "metadata": {},
   "source": [
    "Double-cliqez **ici** pour voir la réponse\n",
    "\n",
    "<!--\n",
    "```\n",
    "\"1\"+\"2\" donne la chaîne de caractères '12'\n",
    "1+2 donne le nombre entier 3\n",
    "\"1+2\" donne la chaîne de caractères '1+2'\n",
    "```\n",
    "-->"
   ]
  },
  {
   "cell_type": "markdown",
   "metadata": {},
   "source": [
    "On peut néanmoins convertir une chaîne de caractère en nombre entier et un nombre entier en chaîne de caractère. Par exemple, la commande **int(\"123\")** convertit la chaîne de caractère **\"123\"** en l'entier **123** (**int** est l'abréviation de **integer** en anglais qui signifie **entier**). Réciproquement, la commande **str(123)** convertit l'entier **123** en la chaîne de caractère **'123'**. (**str** est l'abréviation de **string** en anglais qui signifie chaîne de caractères).  \n",
    "Attention la commande **int** ne convertit la chaîne de caractère en entier que si celle-ci est une chaîne formée de chiffres.  \n",
    "Testez ces commandes ci-dessous."
   ]
  },
  {
   "cell_type": "code",
   "execution_count": null,
   "metadata": {},
   "outputs": [],
   "source": [
    "#Tapez vos commande puis Shift + Entrée pour exécuter"
   ]
  },
  {
   "cell_type": "markdown",
   "metadata": {},
   "source": [
    "Double-ciquez **ici** pour voir la réponse\n",
    "\n",
    "<!--\n",
    "int('123') affiche l'entier 123\n",
    "str(123) affiche la chîane de caractère '123'\n",
    "-->"
   ]
  },
  {
   "cell_type": "code",
   "execution_count": null,
   "metadata": {},
   "outputs": [],
   "source": [
    "123//10\n",
    "S=0\n",
    "for i in str(123):\n",
    "    S=S+int(i)\n",
    "S"
   ]
  },
  {
   "cell_type": "markdown",
   "metadata": {},
   "source": [
    "Pour effectuer la somme des chiffres d'un entier on peut utiliser l'algorithme ci-dessous. Testez-le pour **123** et **2345**."
   ]
  },
  {
   "cell_type": "code",
   "execution_count": null,
   "metadata": {},
   "outputs": [],
   "source": [
    "u=2345\n",
    "somme=0 #on crée la variable qui vaudra la somme des chiffres\n",
    "for i in str(u): # on entame une boucle for où l'indice i prend les valeurs 'i'\n",
    "    somme=somme+int(i) # on somme chaque chiffre en transformant i en un entier\n",
    "somme # affichage de la somme des chiffre"
   ]
  },
  {
   "cell_type": "markdown",
   "metadata": {},
   "source": [
    "## Fractions irréductibles"
   ]
  },
  {
   "cell_type": "markdown",
   "metadata": {},
   "source": [
    "### Nombres premiers dans $\\mathbb{N}$"
   ]
  },
  {
   "cell_type": "markdown",
   "metadata": {},
   "source": [
    "Les algorithmes pour tester si un entier est premier existent mais ne figurent pas au programme de seconde. Néanmoins on peut utiliser la fonction **diviseurs** créée plus haut, si elle affiche exactement deux diviseurs, alors l'entier considéré est premier. Testez-la sur les entiers $2$, $3$, $5$, $7$, $13$ et $7877$."
   ]
  },
  {
   "cell_type": "code",
   "execution_count": null,
   "metadata": {},
   "outputs": [],
   "source": [
    "# Tapez votre commande puis Shift + Entrée pour exécuter\n",
    "diviseurs(7877)"
   ]
  },
  {
   "cell_type": "markdown",
   "metadata": {},
   "source": [
    "### Décomposition en produit de facteurs premiers"
   ]
  },
  {
   "cell_type": "markdown",
   "metadata": {},
   "source": [
    "Une boucle **while** permet de répéter une opération tant que le booléen issu d'un test est **True**. \n",
    "Exécutez l'exemple suivant pour comprendre :"
   ]
  },
  {
   "cell_type": "code",
   "execution_count": null,
   "metadata": {},
   "outputs": [],
   "source": [
    "n=0\n",
    "while n<10: # la condition dans ce test est que l'entier n soit plus petit que 10\n",
    "    n=n+1 # on augmente n de 1 chaque fois que la condition est vérifiée\n",
    "n # le résultat affiché est la plus petite valeur de n supérieure ou égal à 10"
   ]
  },
  {
   "cell_type": "markdown",
   "metadata": {},
   "source": [
    "On considère maintenant l'algorithme ci-dessous. Essayez de deviner le résultat en sortie. Exécutez-le pour vérifier votre réponse."
   ]
  },
  {
   "cell_type": "code",
   "execution_count": null,
   "metadata": {},
   "outputs": [],
   "source": [
    "n=0\n",
    "while n<10:\n",
    "    n=n+4\n",
    "n"
   ]
  },
  {
   "cell_type": "markdown",
   "metadata": {},
   "source": [
    "Pour connaître le nombre de fois où le nombre $2$ apparaît dans la décomposition primaire de $360$, on peut utiliser l'algorithme suivant:"
   ]
  },
  {
   "cell_type": "code",
   "execution_count": null,
   "metadata": {},
   "outputs": [],
   "source": [
    "n=360\n",
    "c=0 # compteur permettant de voir \n",
    "while n%2==0: # tant que 2 divise n\n",
    "    n=n/2 # on remplace n par n/2\n",
    "    c=c+1 # on ajoute 1 au nombre de fois où 2 apparaît dans la décomposition primaire de 360\n",
    "c"
   ]
  },
  {
   "cell_type": "markdown",
   "metadata": {},
   "source": [
    "Modifier cet algorithme de façon judicieuse pour obtenir la décomposition primaire de $360$."
   ]
  },
  {
   "cell_type": "code",
   "execution_count": null,
   "metadata": {},
   "outputs": [],
   "source": [
    "#Ecrivez votre réponse ici :"
   ]
  },
  {
   "cell_type": "markdown",
   "metadata": {},
   "source": [
    "Double-cliquez **ici** pour voir votre réponse\n",
    "\n",
    "<!--\n",
    "360=2^3*3^2*5\n",
    "-->"
   ]
  },
  {
   "cell_type": "markdown",
   "metadata": {},
   "source": [
    "### Fraction irréductible"
   ]
  },
  {
   "cell_type": "markdown",
   "metadata": {},
   "source": [
    "Utilisez l'algorithme précédent pour écrire la fraction $\\dfrac{11088}{5880}$ sous forme irréductible."
   ]
  },
  {
   "cell_type": "code",
   "execution_count": null,
   "metadata": {},
   "outputs": [],
   "source": [
    "# Tapez votre réponse ici : "
   ]
  },
  {
   "cell_type": "markdown",
   "metadata": {},
   "source": [
    "Double-cliquez **ici** pour voir la réponse\n",
    "\n",
    "<!--\n",
    "66/35\n",
    "-->"
   ]
  }
 ],
 "metadata": {
  "kernelspec": {
   "display_name": "Python 3",
   "language": "python",
   "name": "python3"
  },
  "language_info": {
   "codemirror_mode": {
    "name": "ipython",
    "version": 3
   },
   "file_extension": ".py",
   "mimetype": "text/x-python",
   "name": "python",
   "nbconvert_exporter": "python",
   "pygments_lexer": "ipython3",
   "version": "3.7.3"
  }
 },
 "nbformat": 4,
 "nbformat_minor": 2
}
