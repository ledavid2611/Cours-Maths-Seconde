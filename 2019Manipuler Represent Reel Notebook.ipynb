{
 "cells": [
  {
   "cell_type": "markdown",
   "metadata": {},
   "source": [
    "# Représenter et manipuler les nombres réels"
   ]
  },
  {
   "cell_type": "markdown",
   "metadata": {},
   "source": [
    "## Nombres rationnels"
   ]
  },
  {
   "cell_type": "markdown",
   "metadata": {},
   "source": [
    "Pour calculer une valeur approchée d'un rationnel en Python, on utilise la commande ```/```. Par exemple, ```1/3``` affiche $0.333$. Calculez une valeur approchée de $\\dfrac{1}{3}$, $\\dfrac{2}{7}$, $\\dfrac{5}{4}$, $\\dfrac{37}{100}$."
   ]
  },
  {
   "cell_type": "code",
   "execution_count": null,
   "metadata": {},
   "outputs": [],
   "source": [
    "# Shift + Entrée pour exécuter"
   ]
  },
  {
   "cell_type": "markdown",
   "metadata": {},
   "source": [
    "Double-cliquez **ici** pour voir la réponse\n",
    "<!--\n",
    "1/3    0.3333333333333333\n",
    "2/7    0.2857142857142857\n",
    "5/4    1.25\n",
    "37/100 0.37\n",
    "-->"
   ]
  },
  {
   "cell_type": "markdown",
   "metadata": {},
   "source": [
    "Bien entendu, $\\dfrac{5}{4}$ et $\\dfrac{37}{100}$ sont aussi des nombres décimaux."
   ]
  },
  {
   "cell_type": "markdown",
   "metadata": {},
   "source": [
    "## Nombres réels"
   ]
  },
  {
   "cell_type": "markdown",
   "metadata": {},
   "source": [
    "Une **fonction** en langage Python peut avoir un ou plusieurs **arguments** mais ce nombre peut être aussi  variable. Par exemple, la fonction ci-dessous permet de représenter un ou plusieurs réels selon le souhait de l'utilisateur. Pour signaler que le nombre d'arguments est variable, celui-ci est précédé d'un \\*. (cet argument est alors de type **tuple** c'est-à-dire un couple, un triplet etc)"
   ]
  },
  {
   "cell_type": "code",
   "execution_count": null,
   "metadata": {},
   "outputs": [],
   "source": [
    "# Shift + Entrée pour exécuter\n",
    "import matplotlib as plt # importation du package \"matplotlib\" permettant de faire des tracé sous le nom \"plt\"\n",
    "def DroiteNumérique(*x):\n",
    "    print(x)"
   ]
  },
  {
   "cell_type": "code",
   "execution_count": null,
   "metadata": {},
   "outputs": [],
   "source": [
    "DroiteNumérique(2,3,4)"
   ]
  },
  {
   "cell_type": "markdown",
   "metadata": {},
   "source": [
    "Notre fonction finale est donnée comme suit:"
   ]
  },
  {
   "cell_type": "code",
   "execution_count": null,
   "metadata": {},
   "outputs": [],
   "source": [
    "# Shift + Entrée pour exécuter\n",
    "import matplotlib.pyplot as plt # importation du package \"matplotlib\" permettant de faire des tracé sous le nom \"plt\"\n",
    "def DroiteNumérique(*x):\n",
    "    plt.plot(x, [0]*len(x), 'ro',label='réels choisis') # abscisses formées des réels choisis, ordonnées nulles, style=points rouges, légende\n",
    "    plt.plot(x, [0]*len(x),label='droite numérique') # Tracé de la droite entre la plus petite valeur de x et la plus grande\n",
    "    plt.title(\"Représenter des réels\") # Titre\n",
    "    plt.legend() # Affichage de la légende\n",
    "    plt.show() # Affichage du tracé"
   ]
  },
  {
   "cell_type": "markdown",
   "metadata": {},
   "source": [
    "Par exemple exécutez :"
   ]
  },
  {
   "cell_type": "code",
   "execution_count": null,
   "metadata": {},
   "outputs": [],
   "source": [
    "# Shift + Entrée pour exécuter\n",
    "DroiteNumérique(-3,4,7)"
   ]
  },
  {
   "cell_type": "markdown",
   "metadata": {},
   "source": [
    "Placez sur la droite numérique les réels suivants $-5$, $2/3$, $4$, $10$."
   ]
  },
  {
   "cell_type": "code",
   "execution_count": null,
   "metadata": {},
   "outputs": [],
   "source": [
    "# Tapez votre commande puis Shift + Entrée pour exécuter"
   ]
  },
  {
   "cell_type": "markdown",
   "metadata": {},
   "source": [
    "Double-cliquez **ici** pour voir la réponse\n",
    "\n",
    "<!--\n",
    "DroiteNumérique(-5,2/3,4,10)\n",
    "-->"
   ]
  },
  {
   "cell_type": "markdown",
   "metadata": {},
   "source": [
    "## Intervalles. Distance entre nombres réels"
   ]
  },
  {
   "cell_type": "markdown",
   "metadata": {},
   "source": [
    "### Intervalles"
   ]
  },
  {
   "cell_type": "markdown",
   "metadata": {},
   "source": [
    "On considère la fonction suivante :"
   ]
  },
  {
   "cell_type": "code",
   "execution_count": null,
   "metadata": {},
   "outputs": [],
   "source": [
    "# Shift + Entrée pour exécuter\n",
    "def Test(x,a,b):\n",
    "    if x>a and x<b:\n",
    "        print(x,\"appartient à l'intervalle \",\"]\",a,\",\",b,\"[\" )"
   ]
  },
  {
   "cell_type": "markdown",
   "metadata": {},
   "source": [
    "Que se passe-t-il si l'on exécute les commandes suivantes:  \n",
    "1. ```Test(2,1,3) ```\n",
    "2. ```Test(1,2,3)```"
   ]
  },
  {
   "cell_type": "code",
   "execution_count": null,
   "metadata": {},
   "outputs": [],
   "source": [
    "# Tapez vos commandes ci-dessous puis Shift + Entrée pour exécuter\n",
    "\n",
    "# Réponse à la question 1. :\n",
    "# Réponse à la question 2. :"
   ]
  },
  {
   "cell_type": "markdown",
   "metadata": {},
   "source": [
    "Double-cliquez **ici** pour voir la réponse\n",
    "<!--\n",
    "1. il s'affiche 2 appartient à l'intervalle ]1,3[\n",
    "2. il ne s'affiche rien\n",
    "-->"
   ]
  },
  {
   "cell_type": "markdown",
   "metadata": {},
   "source": [
    "Proposez un algorithme permettant d'améliorer le précédent en affichant \"*x n'appartient pas à l'intervalle \\]a,b\\[*\" lorsque la condition (x<a and x<b) n'est pas vérifiée.  \n",
    "(on pourra utiliser la clause ```else```)"
   ]
  },
  {
   "cell_type": "code",
   "execution_count": null,
   "metadata": {},
   "outputs": [],
   "source": [
    "# Tapez votre algorithme ci-dessous puis shift + Entrée pour exécuter\n"
   ]
  },
  {
   "cell_type": "markdown",
   "metadata": {},
   "source": [
    "Double-cliquez **ici** pour voir la réponse\n",
    "\n",
    "<!--\n",
    "```\n",
    "def Test(x,a,b):\n",
    "    if x>a and x<b:\n",
    "        print(x,\"appartient à l'intervalle \",\"]\",a,\",\",b,\"[\" )\n",
    "    else:\n",
    "        print(x,\"n appartient pas à l'intervalle \",\"]\",a,\",\",b,\"[\" )\n",
    "```\n",
    "-->"
   ]
  },
  {
   "cell_type": "markdown",
   "metadata": {},
   "source": [
    "### Distance entre deux réels"
   ]
  },
  {
   "cell_type": "markdown",
   "metadata": {},
   "source": [
    "La commande ```abs()``` permet de calculer la **valeur absolue** d'un réel, de donc ```abs(x-a)``` fournit la distance $|x-a|$ entre $x$ et $a$.  \n",
    "Par exemple, ```abs(3-5)``` affiche 2. Calculez la distance entre $1$ et $0$; $-10$ et $5$; $-13$ et $-4$."
   ]
  },
  {
   "cell_type": "code",
   "execution_count": null,
   "metadata": {},
   "outputs": [],
   "source": [
    "# Tapez vos commandes ci-dessous puis Shift + Entrée pour exécuter\n",
    "abs(3-5)"
   ]
  },
  {
   "cell_type": "markdown",
   "metadata": {},
   "source": [
    "Double-cliquez **ici** pour voir la réponse\n",
    "<!--\n",
    "abs(1-0)  fournit 1\n",
    "abs(-10-5) fournit 15\n",
    "abs(-13-(-4)) fournit 17\n",
    "-->"
   ]
  },
  {
   "cell_type": "markdown",
   "metadata": {},
   "source": [
    "On se propose ci-dessous de reconstruire une fonction, que l'on nommera ```distance``` qui calculera la distance entre $x$ et $a$ fournira exactement les mêmes résultats que ```abs(x-a)```. Testez vos commandes ci-dessous."
   ]
  },
  {
   "cell_type": "code",
   "execution_count": null,
   "metadata": {},
   "outputs": [],
   "source": [
    "# Shift + Entrée pour exéctuer\n",
    "def distance(x,a):\n",
    "    if x<a:\n",
    "        return a-x\n",
    "    else:\n",
    "        return x-a"
   ]
  },
  {
   "cell_type": "code",
   "execution_count": null,
   "metadata": {},
   "outputs": [],
   "source": [
    "# Tapez vos commandes ci-dessous en reprenant les réels utilisés ci-dessus puis Shift + Entrée pour exécuter"
   ]
  },
  {
   "cell_type": "markdown",
   "metadata": {},
   "source": [
    "### Encadrement par des décimaux"
   ]
  },
  {
   "cell_type": "markdown",
   "metadata": {},
   "source": [
    "Pour rechercher le plus grand entier $k$ plus petit que le réel $x$ (appelé **partie entière de $x$**), on peut utiliser la fonction suivante:"
   ]
  },
  {
   "cell_type": "code",
   "execution_count": null,
   "metadata": {},
   "outputs": [],
   "source": [
    "# Shift + Entrée pour exéccuter\n",
    "def PartieEntière(x):\n",
    "    if x>=0:\n",
    "        return int(x)\n",
    "    else:\n",
    "        return int(x)-1"
   ]
  },
  {
   "cell_type": "markdown",
   "metadata": {},
   "source": [
    "Testez la fonction sur les réels $1,2$; $4,999$; $7$; $-1,01$ et $-1,9$."
   ]
  },
  {
   "cell_type": "code",
   "execution_count": null,
   "metadata": {},
   "outputs": [],
   "source": [
    "# Tapez vos commandes ci-dessous puis Shift + Entrée pour exéctuer\n",
    "# Pensez à utiliser un \".\" au lieu d'une \",\""
   ]
  },
  {
   "cell_type": "markdown",
   "metadata": {},
   "source": [
    "Double-cliquez **ici** pour voir la réponse\n",
    "<!--\n",
    "PartieEntière(1,2)       1\n",
    "PartieEntière(4,999)     4\n",
    "PartieEntière(7)         7\n",
    "PartieEntière(-1.01)     -2\n",
    "PartieEntière(-1.9)       -2\n",
    "-->"
   ]
  },
  {
   "cell_type": "markdown",
   "metadata": {},
   "source": [
    "Pour encadrer un réel $x$ par deux décimaux, à $10^{-n}$, on utilise par exemple la fonction ci-dessous :"
   ]
  },
  {
   "cell_type": "code",
   "execution_count": null,
   "metadata": {},
   "outputs": [],
   "source": [
    "# Shift + Entrée pour exécuter\n",
    "def encadrement(x,n):\n",
    "    k=PartieEntière(x)\n",
    "    while k/10**n<x:\n",
    "        k=k+1\n",
    "    print(x,\" est compris entre \",(k-1)/10**n,\" et \", k/10**n)\n",
    "    return ((k-1)/10**n,x,k/10**n)"
   ]
  },
  {
   "cell_type": "markdown",
   "metadata": {},
   "source": [
    "À l'aide de cette fonction, encadrer $1,5354545$ à $10^{-2}$ par deux décimaux:"
   ]
  },
  {
   "cell_type": "code",
   "execution_count": null,
   "metadata": {},
   "outputs": [],
   "source": [
    "# Tapez votre commande puis Shift + Entrée pour exécuter"
   ]
  },
  {
   "cell_type": "markdown",
   "metadata": {},
   "source": [
    "Double-cliquez **ici** pour voir la réponse\n",
    "<!--\n",
    "```\n",
    "encadrement(1.5354487,2) affiche \"1.5354487  est compris entre  1.53  et  1.54\"\n",
    "\n",
    "```\n",
    "-->"
   ]
  },
  {
   "cell_type": "markdown",
   "metadata": {},
   "source": [
    "Quel est le type de l'objet donnée en sortie de la fonction ```encadrement```? (utilisez la fonction ```type```)"
   ]
  },
  {
   "cell_type": "code",
   "execution_count": null,
   "metadata": {},
   "outputs": [],
   "source": [
    "# Tapez votre commande puis Shift + Entrée"
   ]
  },
  {
   "cell_type": "markdown",
   "metadata": {},
   "source": [
    "Double-cliquez **ici** pour voir la réponse\n",
    "<!--\n",
    "type(encadrement(1.5354487,2))\n",
    "c'est un tuple\n",
    "-->"
   ]
  },
  {
   "cell_type": "markdown",
   "metadata": {},
   "source": [
    "Utiliser les fonctions ```DroiteNumérique``` et ```encadrement``` de façon judicieuse pour représenter ces trois réels."
   ]
  },
  {
   "cell_type": "code",
   "execution_count": null,
   "metadata": {},
   "outputs": [],
   "source": [
    "# Tapez votre commande puis Shift + Entrée pour exécuter"
   ]
  },
  {
   "cell_type": "markdown",
   "metadata": {},
   "source": [
    "Double-cliquez **ici** pour voir la réponse\n",
    "<!--\n",
    "```\n",
    "DroiteNumérique(*encadrement(1.5354487,2))\n",
    "```\n",
    "-->"
   ]
  },
  {
   "cell_type": "code",
   "execution_count": null,
   "metadata": {},
   "outputs": [],
   "source": []
  }
 ],
 "metadata": {
  "kernelspec": {
   "display_name": "Python 3",
   "language": "python",
   "name": "python3"
  },
  "language_info": {
   "codemirror_mode": {
    "name": "ipython",
    "version": 3
   },
   "file_extension": ".py",
   "mimetype": "text/x-python",
   "name": "python",
   "nbconvert_exporter": "python",
   "pygments_lexer": "ipython3",
   "version": "3.7.3"
  }
 },
 "nbformat": 4,
 "nbformat_minor": 2
}
